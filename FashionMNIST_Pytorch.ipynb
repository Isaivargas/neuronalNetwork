{
  "nbformat": 4,
  "nbformat_minor": 0,
  "metadata": {
    "colab": {
      "name": "FashionMNIST-Pytorch.ipynb",
      "provenance": [],
      "authorship_tag": "ABX9TyOp6U8pBXDivvEAgwEv0y+M",
      "include_colab_link": true
    },
    "kernelspec": {
      "name": "python3",
      "display_name": "Python 3"
    }
  },
  "cells": [
    {
      "cell_type": "markdown",
      "metadata": {
        "id": "view-in-github",
        "colab_type": "text"
      },
      "source": [
        "<a href=\"https://colab.research.google.com/github/Isaivargas/neuronalNetwork/blob/master/FashionMNIST_Pytorch.ipynb\" target=\"_parent\"><img src=\"https://colab.research.google.com/assets/colab-badge.svg\" alt=\"Open In Colab\"/></a>"
      ]
    },
    {
      "cell_type": "code",
      "metadata": {
        "id": "DJ5DWgJUg3X6",
        "colab_type": "code",
        "colab": {
          "base_uri": "https://localhost:8080/",
          "height": 187
        },
        "outputId": "22898b53-2bcd-49a6-f8b1-d0661c9ff429"
      },
      "source": [
        "import torch\n",
        "from torchvision import datasets,transforms\n",
        "from torch import nn, optim\n",
        "import torch.nn.functional as F\n",
        "\n",
        "import helper\n",
        "\n",
        "\n",
        "\n",
        "transform = transforms.Compose([transforms.ToTensor(),\n",
        "  transforms.Normalize((0.5,), (0.5,))\n",
        "])\n",
        "\n",
        "trainset = datasets.FashionMNIST('~/.pytorch/F_MNIST_data/', download=True, train=True, transform=transform)\n",
        "trainloader = torch.utils.data.DataLoader(trainset, batch_size=64, shuffle=True)\n",
        "testloader = trainloader\n",
        "\n",
        "\n",
        "class Classifier(nn.Module):\n",
        "      def __init__(self):\n",
        "        super().__init__()\n",
        "        self.fc1 = nn.Linear (784,256)\n",
        "        self.fc2 = nn.Linear (256,128)\n",
        "        self.fc3 = nn.Linear (128,64)\n",
        "        self.fc4 = nn.Linear (64,10)\n",
        "\n",
        "        self.dropout = nn.Dropout(p=0.2)\n",
        "\n",
        "      def forward (self,x):\n",
        "\n",
        "        x =x.view(x.shape[0],-1)\n",
        "        \n",
        "        x = self.dropout(F.relu(self.fc1(x)))\n",
        "        x = self.dropout(F.relu(self.fc2(x)))\n",
        "        x = self.dropout(F.relu(self.fc3(x)))\n",
        "\n",
        "        x = F.log_softmax(self.fc4(x),dim=1)\n",
        "\n",
        "        return x\n",
        "\n",
        "model     = Classifier()\n",
        "criterion = nn.NLLLoss()\n",
        "optimizer = optim.Adam(model.parameters(),lr=0.003)\n",
        "\n",
        "epochs =  10\n",
        "steps = 0\n",
        "\n",
        "train_losses,test_losses =[],[]\n",
        "\n",
        "for e in range(epochs):\n",
        "  running_loss = 0\n",
        "  for images,labels in trainloader:\n",
        "\n",
        "      images = images.view(images.shape[0],-1)\n",
        "      logps = model(images) \n",
        "      loss  =  criterion(logps,labels)\n",
        "\n",
        "      optimizer.zero_grad()\n",
        "\n",
        "      loss.backward()\n",
        "      optimizer.step()\n",
        "\n",
        "      running_loss += loss.item()\n",
        "  else:\n",
        "      test_loss=0\n",
        "      accuracy =0\n",
        "\n",
        "      with torch.no_grad():\n",
        "        model.eval()\n",
        "        for images ,labels in testloader:\n",
        "          log_ps = model(images)\n",
        "          test_loss += criterion(log_ps,labels)\n",
        "                                 \n",
        "          ps = torch.exp(log_ps)\n",
        "          top_p,top_class = ps.topk(1,dim=1)\n",
        "          equals= top_class == labels.view(*top_class.shape)\n",
        "          accuracy +=torch.mean(equals.type(torch.FloatTensor))\n",
        "\n",
        "      model.train()    \n",
        "\n",
        "      train_losses.append(running_loss/len(trainloader))\n",
        "      test_losses.append(test_loss/len(testloader))\n",
        "\n",
        "\n",
        "      print(\"Epoch: {}/{}..\" .format(e+1,epochs),\n",
        "            \"Trainning_loss:{:.3f}..\" .format(running_loss/len(trainloader)),\n",
        "            \"Test_loss:{:.3f}..\".format(test_loss/len(testloader)),\n",
        "            \"Test_Acuracy:{:.3f}..\".format(accuracy/len(testloader))\n",
        "            )\n",
        "      \n",
        "      torch.save(model.state_dict(),'checkpoint.pth')\n"
      ],
      "execution_count": 30,
      "outputs": [
        {
          "output_type": "stream",
          "text": [
            "Epoch: 1/10.. Trainning_loss:0.610.. Test_loss:0.424.. Test_Acuracy:0.848..\n",
            "Epoch: 2/10.. Trainning_loss:0.482.. Test_loss:0.387.. Test_Acuracy:0.859..\n",
            "Epoch: 3/10.. Trainning_loss:0.452.. Test_loss:0.372.. Test_Acuracy:0.865..\n",
            "Epoch: 4/10.. Trainning_loss:0.433.. Test_loss:0.343.. Test_Acuracy:0.875..\n",
            "Epoch: 5/10.. Trainning_loss:0.417.. Test_loss:0.339.. Test_Acuracy:0.875..\n",
            "Epoch: 6/10.. Trainning_loss:0.414.. Test_loss:0.325.. Test_Acuracy:0.881..\n",
            "Epoch: 7/10.. Trainning_loss:0.402.. Test_loss:0.322.. Test_Acuracy:0.883..\n",
            "Epoch: 8/10.. Trainning_loss:0.397.. Test_loss:0.306.. Test_Acuracy:0.890..\n",
            "Epoch: 9/10.. Trainning_loss:0.394.. Test_loss:0.319.. Test_Acuracy:0.883..\n",
            "Epoch: 10/10.. Trainning_loss:0.390.. Test_loss:0.300.. Test_Acuracy:0.890..\n"
          ],
          "name": "stdout"
        }
      ]
    }
  ]
}